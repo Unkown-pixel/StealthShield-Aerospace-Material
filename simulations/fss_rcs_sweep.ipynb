# =============================================================================
# FSS Coverage vs RCS Performance + Cost Trade-off
# Author: Unknown-pixel + Qwen
# MIT Licensed
# =============================================================================

import numpy as np
import matplotlib.pyplot as plt
import pandas as pd

# Simulation Data (from FDTD solver + cost model)
data = {
    'fss_coverage': [8.0, 9.5, 18.0],
    'rcs_db': [-14.2, -16.8, -24.0],
    'cost_usd_per_kg': [328, 330, 338],
    'areal_density_kg_per_m2': [5.85, 5.85, 5.88],
    'manufacturability_score': [8.4, 8.3, 7.9]
}

df = pd.DataFrame(data)

# Plot 1: FSS vs RCS
plt.figure(figsize=(12, 5))
plt.subplot(1, 2, 1)
plt.plot(df['fss_coverage'], df['rcs_db'], 'o-', linewidth=3, color='#2E86AB')
plt.title('FSS Coverage vs Radar Cross Section', fontsize=14, fontweight='bold')
plt.xlabel('FSS Coverage (%)', fontsize=12)
plt.ylabel('RCS Reduction (dB)', fontsize=12)
plt.grid(True, alpha=0.3)
plt.axvline(x=9.5, color='red', linestyle='--', label='Optimal Point (9.5%)')
plt.legend()

# Plot 2: FSS vs Cost
plt.subplot(1, 2, 2)
plt.plot(df['fss_coverage'], df['cost_usd_per_kg'], 's-', linewidth=3, color='#A23B72')
plt.title('FSS Coverage vs Material Cost', fontsize=14, fontweight='bold')
plt.xlabel('FSS Coverage (%)', fontsize=12)
plt.ylabel('Cost ($/kg)', fontsize=12)
plt.grid(True, alpha=0.3)
plt.axvline(x=9.5, color='red', linestyle='--', label='Optimal Point (9.5%)')
plt.legend()

plt.tight_layout()
plt.savefig('../figures/fss_rcs_cost_tradeoff.png', dpi=200, bbox_inches='tight')
plt.show()

# Export data
df.to_csv('../data/fss_sweep.csv', index=False)
print("✅ Simulation complete. Data exported to /data and /figures.")
